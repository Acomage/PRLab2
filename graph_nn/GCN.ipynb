{
 "cells": [
  {
   "cell_type": "markdown",
   "metadata": {},
   "source": [
    "# Data Prep"
   ]
  },
  {
   "cell_type": "markdown",
   "metadata": {},
   "source": [
    "## Parse the json"
   ]
  },
  {
   "cell_type": "code",
   "execution_count": 3,
   "metadata": {},
   "outputs": [],
   "source": [
    "import json\n",
    "with open('../solve/data/Json/graph_out.json', 'r') as f:\n",
    "    adjacency_list = json.load(f)"
   ]
  },
  {
   "cell_type": "markdown",
   "metadata": {},
   "source": [
    "## Convert to `edge_index` for PyTorch"
   ]
  },
  {
   "cell_type": "code",
   "execution_count": 12,
   "metadata": {},
   "outputs": [
    {
     "data": {
      "text/plain": [
       "tensor([[   0,    0,    2,  ..., 4907, 4908, 4909],\n",
       "        [3154, 4542,  923,  ..., 4909, 2976, 2978]])"
      ]
     },
     "execution_count": 12,
     "metadata": {},
     "output_type": "execute_result"
    }
   ],
   "source": [
    "import torch\n",
    "from torch_geometric.data import Data\n",
    "\n",
    "# Map node names (strings) to indices (integers)\n",
    "node_mapping = {node: idx for idx, node in enumerate(adjacency_list.keys())}\n",
    "\n",
    "# Create edge indices with numerical node IDs\n",
    "edges = []\n",
    "for node, neighbors in adjacency_list.items():\n",
    "    for neighbor in neighbors:\n",
    "        edges.append((node_mapping[node], node_mapping[neighbor]))\n",
    "\n",
    "# Convert to tensor\n",
    "edge_index = torch.tensor(edges, dtype=torch.long).t().contiguous()\n",
    "edge_index\n"
   ]
  },
  {
   "cell_type": "markdown",
   "metadata": {},
   "source": [
    "## Construct default `node_features` matrix"
   ]
  },
  {
   "cell_type": "code",
   "execution_count": null,
   "metadata": {},
   "outputs": [
    {
     "data": {
      "text/plain": [
       "4910"
      ]
     },
     "execution_count": 24,
     "metadata": {},
     "output_type": "execute_result"
    }
   ],
   "source": [
    "num_nodes = len(adjacency_list)\n",
    "node_features = torch.eye(num_nodes)"
   ]
  },
  {
   "cell_type": "markdown",
   "metadata": {},
   "source": [
    "## Extract labels `y`"
   ]
  },
  {
   "cell_type": "code",
   "execution_count": 40,
   "metadata": {},
   "outputs": [],
   "source": [
    "# Extract labels for each node based on the subject\n",
    "node_labels = {}\n",
    "for node in adjacency_list.keys():\n",
    "    # Extract the subject (second component after the first dot)\n",
    "    subject = node.split('.')[1] if '.' in node else \"Unknown\"\n",
    "    node_labels[node] = subject\n",
    "\n",
    "label_mapping = {label: idx for idx, label in enumerate(set(node_labels.values()))}\n",
    "y = [label_mapping[label] for label in node_labels.values()]\n",
    "y = torch.tensor(y, dtype=torch.long)"
   ]
  },
  {
   "cell_type": "markdown",
   "metadata": {},
   "source": [
    "## Import to torch_geometric Data"
   ]
  },
  {
   "cell_type": "code",
   "execution_count": 41,
   "metadata": {},
   "outputs": [],
   "source": [
    "data = Data(x=node_features, edge_index=edge_index, y=y)"
   ]
  },
  {
   "cell_type": "markdown",
   "metadata": {},
   "source": [
    "## Do a train-val-test split"
   ]
  },
  {
   "cell_type": "code",
   "execution_count": 42,
   "metadata": {},
   "outputs": [],
   "source": [
    "# Define the number of nodes\n",
    "num_nodes = data.num_nodes\n",
    "\n",
    "# Train-test split proportions\n",
    "train_ratio = 0.8\n",
    "val_ratio = 0.1\n",
    "test_ratio = 0.1\n",
    "\n",
    "# Randomly shuffle node indices\n",
    "indices = torch.randperm(num_nodes)\n",
    "\n",
    "# Split indices\n",
    "train_size = int(train_ratio * num_nodes)\n",
    "val_size = int(val_ratio * num_nodes)\n",
    "\n",
    "train_idx = indices[:train_size]\n",
    "val_idx = indices[train_size:train_size + val_size]\n",
    "test_idx = indices[train_size + val_size:]\n",
    "\n",
    "# Create masks\n",
    "data.train_mask = torch.zeros(num_nodes, dtype=torch.bool)\n",
    "data.val_mask = torch.zeros(num_nodes, dtype=torch.bool)\n",
    "data.test_mask = torch.zeros(num_nodes, dtype=torch.bool)\n",
    "\n",
    "data.train_mask[train_idx] = True\n",
    "data.val_mask[val_idx] = True\n",
    "data.test_mask[test_idx] = True"
   ]
  },
  {
   "cell_type": "markdown",
   "metadata": {},
   "source": [
    "# Build GCN and train it"
   ]
  },
  {
   "cell_type": "code",
   "execution_count": 43,
   "metadata": {},
   "outputs": [],
   "source": [
    "# Build a one-layer GCN\n",
    "import torch\n",
    "from torch.nn import Linear\n",
    "from torch_geometric.nn import GCNConv\n",
    "\n",
    "class GCN(torch.nn.Module):\n",
    "    def __init__(self, hidden_channels = 16):\n",
    "        super().__init__()\n",
    "        self.gcn = GCNConv(data.num_features, hidden_channels)\n",
    "        self.out = Linear(hidden_channels, len(label_mapping))\n",
    "\n",
    "    def forward(self, x, edge_index):\n",
    "        h = self.gcn(x, edge_index).relu()\n",
    "        z = self.out(h)\n",
    "        return h, z"
   ]
  },
  {
   "cell_type": "code",
   "execution_count": 49,
   "metadata": {},
   "outputs": [
    {
     "name": "stdout",
     "output_type": "stream",
     "text": [
      "Epoch:   0, Loss: 3.3007, Accuracy:   9.06%\n",
      "Epoch:  10, Loss: 2.9441, Accuracy:  23.52%\n",
      "Epoch:  20, Loss: 2.2933, Accuracy:  54.74%\n",
      "Epoch:  30, Loss: 1.6428, Accuracy:  71.77%\n",
      "Epoch:  40, Loss: 1.1178, Accuracy:  80.14%\n",
      "Epoch:  50, Loss: 0.7461, Accuracy:  87.17%\n",
      "Epoch:  60, Loss: 0.5090, Accuracy:  90.30%\n",
      "Epoch:  70, Loss: 0.3554, Accuracy:  93.84%\n",
      "Epoch:  80, Loss: 0.2509, Accuracy:  96.36%\n",
      "Epoch:  90, Loss: 0.1809, Accuracy:  97.40%\n",
      "Epoch: 100, Loss: 0.1343, Accuracy:  97.94%\n",
      "Epoch: 110, Loss: 0.1025, Accuracy:  98.70%\n",
      "Epoch: 120, Loss: 0.0797, Accuracy:  99.06%\n",
      "Epoch: 130, Loss: 0.0627, Accuracy:  99.11%\n",
      "Epoch: 140, Loss: 0.0496, Accuracy:  99.64%\n",
      "Epoch: 150, Loss: 0.0390, Accuracy:  99.95%\n",
      "Epoch: 160, Loss: 0.0304, Accuracy:  99.97%\n",
      "Epoch: 170, Loss: 0.0242, Accuracy:  99.97%\n",
      "Epoch: 180, Loss: 0.0200, Accuracy:  99.97%\n",
      "Epoch: 190, Loss: 0.0171, Accuracy:  99.97%\n",
      "Epoch: 200, Loss: 0.0150, Accuracy:  99.97%\n",
      "Epoch: 210, Loss: 0.0133, Accuracy:  99.97%\n",
      "Epoch: 220, Loss: 0.0120, Accuracy:  99.97%\n",
      "Epoch: 230, Loss: 0.0109, Accuracy:  99.97%\n",
      "Epoch: 240, Loss: 0.0100, Accuracy:  99.97%\n",
      "Epoch: 250, Loss: 0.0092, Accuracy:  99.97%\n",
      "Epoch: 260, Loss: 0.0085, Accuracy:  99.97%\n",
      "Epoch: 270, Loss: 0.0079, Accuracy:  99.97%\n",
      "Epoch: 280, Loss: 0.0074, Accuracy:  99.97%\n",
      "Epoch: 290, Loss: 0.0070, Accuracy:  99.97%\n",
      "Epoch: 300, Loss: 0.0065, Accuracy:  99.97%\n",
      "Epoch: 310, Loss: 0.0062, Accuracy:  99.97%\n",
      "Epoch: 320, Loss: 0.0059, Accuracy:  99.97%\n",
      "Epoch: 330, Loss: 0.0056, Accuracy:  99.97%\n",
      "Epoch: 340, Loss: 0.0053, Accuracy:  99.97%\n",
      "Epoch: 350, Loss: 0.0050, Accuracy:  99.97%\n",
      "Epoch: 360, Loss: 0.0048, Accuracy:  99.97%\n",
      "Epoch: 370, Loss: 0.0046, Accuracy:  99.97%\n",
      "Epoch: 380, Loss: 0.0044, Accuracy:  99.97%\n",
      "Epoch: 390, Loss: 0.0042, Accuracy:  99.97%\n",
      "Epoch: 400, Loss: 0.0041, Accuracy:  99.97%\n",
      "Epoch: 410, Loss: 0.0039, Accuracy:  99.97%\n",
      "Epoch: 420, Loss: 0.0038, Accuracy:  99.97%\n",
      "Epoch: 430, Loss: 0.0037, Accuracy:  99.97%\n",
      "Epoch: 440, Loss: 0.0035, Accuracy:  99.97%\n",
      "Epoch: 450, Loss: 0.0034, Accuracy:  99.97%\n",
      "Epoch: 460, Loss: 0.0033, Accuracy:  99.97%\n",
      "Epoch: 470, Loss: 0.0032, Accuracy:  99.97%\n",
      "Epoch: 480, Loss: 0.0031, Accuracy:  99.97%\n",
      "Epoch: 490, Loss: 0.0030, Accuracy:  99.97%\n",
      "Epoch: 500, Loss: 0.0029, Accuracy:  99.97%\n",
      "Epoch: 510, Loss: 0.0029, Accuracy:  99.97%\n",
      "Epoch: 520, Loss: 0.0028, Accuracy:  99.97%\n",
      "Epoch: 530, Loss: 0.0027, Accuracy:  99.97%\n",
      "Epoch: 540, Loss: 0.0027, Accuracy:  99.97%\n",
      "Epoch: 550, Loss: 0.0026, Accuracy:  99.97%\n",
      "Epoch: 560, Loss: 0.0025, Accuracy:  99.97%\n",
      "Epoch: 570, Loss: 0.0025, Accuracy:  99.97%\n",
      "Epoch: 580, Loss: 0.0024, Accuracy:  99.97%\n",
      "Epoch: 590, Loss: 0.0024, Accuracy:  99.97%\n",
      "Epoch: 600, Loss: 0.0023, Accuracy:  99.97%\n",
      "Epoch: 610, Loss: 0.0023, Accuracy:  99.97%\n",
      "Epoch: 620, Loss: 0.0022, Accuracy:  99.97%\n",
      "Epoch: 630, Loss: 0.0022, Accuracy:  99.97%\n",
      "Epoch: 640, Loss: 0.0021, Accuracy:  99.97%\n",
      "Epoch: 650, Loss: 0.0021, Accuracy:  99.97%\n",
      "Epoch: 660, Loss: 0.0021, Accuracy:  99.97%\n",
      "Epoch: 670, Loss: 0.0020, Accuracy:  99.97%\n",
      "Epoch: 680, Loss: 0.0020, Accuracy:  99.97%\n",
      "Epoch: 690, Loss: 0.0020, Accuracy:  99.97%\n",
      "Epoch: 700, Loss: 0.0019, Accuracy:  99.97%\n",
      "Epoch: 710, Loss: 0.0019, Accuracy:  99.97%\n",
      "Epoch: 720, Loss: 0.0019, Accuracy:  99.97%\n",
      "Epoch: 730, Loss: 0.0018, Accuracy:  99.97%\n",
      "Epoch: 740, Loss: 0.0018, Accuracy:  99.97%\n",
      "Epoch: 750, Loss: 0.0018, Accuracy:  99.97%\n",
      "Epoch: 760, Loss: 0.0018, Accuracy:  99.97%\n",
      "Epoch: 770, Loss: 0.0017, Accuracy:  99.97%\n",
      "Epoch: 780, Loss: 0.0017, Accuracy:  99.97%\n",
      "Epoch: 790, Loss: 0.0017, Accuracy:  99.97%\n",
      "Epoch: 800, Loss: 0.0017, Accuracy:  99.97%\n",
      "Epoch: 810, Loss: 0.0016, Accuracy:  99.97%\n",
      "Epoch: 820, Loss: 0.0016, Accuracy:  99.97%\n",
      "Epoch: 830, Loss: 0.0016, Accuracy:  99.97%\n",
      "Epoch: 840, Loss: 0.0016, Accuracy:  99.97%\n",
      "Epoch: 850, Loss: 0.0016, Accuracy:  99.97%\n",
      "Epoch: 860, Loss: 0.0016, Accuracy:  99.97%\n",
      "Epoch: 870, Loss: 0.0015, Accuracy:  99.97%\n",
      "Epoch: 880, Loss: 0.0015, Accuracy:  99.97%\n",
      "Epoch: 890, Loss: 0.0015, Accuracy:  99.97%\n",
      "Epoch: 900, Loss: 0.0015, Accuracy:  99.97%\n",
      "Epoch: 910, Loss: 0.0015, Accuracy:  99.97%\n",
      "Epoch: 920, Loss: 0.0015, Accuracy:  99.97%\n",
      "Epoch: 930, Loss: 0.0014, Accuracy:  99.97%\n",
      "Epoch: 940, Loss: 0.0014, Accuracy:  99.97%\n",
      "Epoch: 950, Loss: 0.0014, Accuracy:  99.97%\n",
      "Epoch: 960, Loss: 0.0014, Accuracy:  99.97%\n",
      "Epoch: 970, Loss: 0.0014, Accuracy:  99.97%\n",
      "Epoch: 980, Loss: 0.0014, Accuracy:  99.97%\n",
      "Epoch: 990, Loss: 0.0014, Accuracy:  99.97%\n"
     ]
    },
    {
     "data": {
      "image/png": "[encoded data removed]",
      "text/plain": [
       "<Figure size 1200x600 with 1 Axes>"
      ]
     },
     "metadata": {},
     "output_type": "display_data"
    },
    {
     "data": {
      "image/png": "[encoded data removed]",
      "text/plain": [
       "<Figure size 1200x600 with 1 Axes>"
      ]
     },
     "metadata": {},
     "output_type": "display_data"
    }
   ],
   "source": [
    "import matplotlib.pyplot as plt\n",
    "\n",
    "x = data.x\n",
    "train_y = data.y[data.train_mask]\n",
    "val_y = data.y[data.val_mask]\n",
    "\n",
    "learning_rate = 0.01\n",
    "epochs = 1000\n",
    "hidden_channels = 16\n",
    "model = GCN(hidden_channels)\n",
    "criterion = torch.nn.CrossEntropyLoss()\n",
    "optimizer = torch.optim.Adam(model.parameters(), lr=learning_rate)\n",
    "\n",
    "def accuracy(pred_y, y):\n",
    "    return (pred_y == y).sum() / len(y)\n",
    "\n",
    "# the training loop\n",
    "accs = []\n",
    "losses = []\n",
    "val_accs = []\n",
    "val_losses = []\n",
    "\n",
    "for epoch in range(epochs):\n",
    "    model.train()\n",
    "    optimizer.zero_grad()\n",
    "    h, z = model(x, edge_index)\n",
    "    train_h, train_z = h[data.train_mask], z[data.train_mask]\n",
    "    loss = criterion(train_z, train_y)\n",
    "    loss.backward()\n",
    "    optimizer.step()\n",
    "\n",
    "    acc = accuracy(train_z.argmax(dim=1), train_y)\n",
    "    accs.append(acc)\n",
    "    losses.append(loss.detach().numpy())\n",
    "\n",
    "    model.eval()\n",
    "    with torch.no_grad():\n",
    "        val_h, val_z = h[data.val_mask], z[data.val_mask]\n",
    "        val_acc = accuracy(val_z.argmax(dim=1), val_y)\n",
    "        val_loss = criterion(val_z, val_y)\n",
    "        val_accs.append(val_acc)\n",
    "        val_losses.append(val_loss.detach().numpy())\n",
    "\n",
    "    if epoch % 10 == 0:\n",
    "        print(f\"Epoch: {epoch:>3}, Loss: {loss:.4f}, Accuracy: {acc*100:>6.2f}%\")\n",
    "    \n",
    "\n",
    "plt.figure(figsize=(12, 6))\n",
    "plt.plot(losses, label=\"Train\")\n",
    "plt.plot(val_losses, label=\"Validation\")\n",
    "plt.xlabel(\"Epoch\")\n",
    "plt.ylabel(\"Loss\")\n",
    "plt.legend()\n",
    "plt.show()\n",
    "\n",
    "plt.figure(figsize=(12, 6))\n",
    "plt.plot(accs, label=\"Train\")\n",
    "plt.plot(val_accs, label=\"Validation\")\n",
    "plt.xlabel(\"Epoch\")\n",
    "plt.ylabel(\"Accuracy\")\n",
    "plt.legend()\n",
    "plt.show()"
   ]
  }
 ],
 "metadata": {
  "kernelspec": {
   "display_name": "Python 3",
   "language": "python",
   "name": "python3"
  },
  "language_info": {
   "codemirror_mode": {
    "name": "ipython",
    "version": 3
   },
   "file_extension": ".py",
   "mimetype": "text/x-python",
   "name": "python",
   "nbconvert_exporter": "python",
   "pygments_lexer": "ipython3",
   "version": "3.11.9"
  }
 },
 "nbformat": 4,
 "nbformat_minor": 2
}
